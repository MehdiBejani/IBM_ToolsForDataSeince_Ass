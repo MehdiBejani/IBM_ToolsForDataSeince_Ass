{
 "cells": [
  {
   "cell_type": "markdown",
   "id": "faf745f0",
   "metadata": {},
   "source": [
    "<H1>My Jupyter Notebook on IBM Watson Studio<H1>"
   ]
  },
  {
   "cell_type": "markdown",
   "id": "e3a92563",
   "metadata": {},
   "source": [
    "<b>Mehdi Bejani </b><br>Data Scientist "
   ]
  },
  {
   "cell_type": "markdown",
   "id": "d00ce2ec",
   "metadata": {},
   "source": [
    "<i>I am interested in data science because it is very intrested topic and I need to learn it to find a job <i>"
   ]
  },
  {
   "cell_type": "markdown",
   "id": "ecea0c6a",
   "metadata": {},
   "source": [
    "<h3>The following code will display the time that I am working on this task</h3> "
   ]
  },
  {
   "cell_type": "code",
   "execution_count": 6,
   "id": "13732add",
   "metadata": {},
   "outputs": [
    {
     "name": "stdout",
     "output_type": "stream",
     "text": [
      "In This time Mehdi writing this task:   2022-10-26 23:19:01.572701\n"
     ]
    }
   ],
   "source": [
    "import datetime \n",
    "message = \"In This time Mehdi writing this task:  \"\n",
    "print (message , datetime.datetime.now() )"
   ]
  },
  {
   "cell_type": "markdown",
   "id": "5e67b8f2-d3e1-4dbc-8644-4e4f0912cf44",
   "metadata": {},
   "source": [
    "There are two main courses for IBM Certificate: \n",
    "1. python learning\n",
    "2. machine Learning \n",
    "\n",
    "* So go on to get the Certificate:\n",
    "   \n",
    "   `Try it `\n",
    "   \n",
    "    \n",
    "* Here is the link to course: [IBM Data Science Professional Certificate](https://www.coursera.org/professional-certificates/ibm-data-science \"Enroll\")\n",
    "\n",
    "# The is the logo of IBM course\n",
    "![alt text][logo]\n",
    "\n",
    "[logo]: data:image/png;base64,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 \n",
    " "
   ]
  },
  {
   "cell_type": "markdown",
   "id": "ad581afd",
   "metadata": {},
   "source": []
  },
  {
   "cell_type": "code",
   "execution_count": null,
   "id": "c01b902a",
   "metadata": {},
   "outputs": [],
   "source": []
  }
 ],
 "metadata": {
  "kernelspec": {
   "display_name": "Python",
   "language": "python",
   "name": "conda-env-python-py"
  },
  "language_info": {
   "codemirror_mode": {
    "name": "ipython",
    "version": 3
   },
   "file_extension": ".py",
   "mimetype": "text/x-python",
   "name": "python",
   "nbconvert_exporter": "python",
   "pygments_lexer": "ipython3",
   "version": "3.7.12"
  }
 },
 "nbformat": 4,
 "nbformat_minor": 5
}
